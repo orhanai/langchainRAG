{
  "cells": [
    {
      "cell_type": "markdown",
      "metadata": {
        "id": "oFYBixyTLshM"
      },
      "source": [
        "1. LangChain RAG"
      ]
    },
    {
      "cell_type": "markdown",
      "metadata": {
        "id": "vtLEFcN9LshQ"
      },
      "source": [
        "This is a comment made on Colab Research at Google"
      ]
    },
    {
      "cell_type": "code",
      "source": [
        "print(1)"
      ],
      "metadata": {
        "id": "SLnL4EWsL99T",
        "outputId": "e1cdc985-f8bb-457e-8266-e7acc75cc6bf",
        "colab": {
          "base_uri": "https://localhost:8080/"
        }
      },
      "execution_count": 1,
      "outputs": [
        {
          "output_type": "stream",
          "name": "stdout",
          "text": [
            "1\n"
          ]
        }
      ]
    }
  ],
  "metadata": {
    "language_info": {
      "name": "python"
    },
    "colab": {
      "provenance": []
    },
    "kernelspec": {
      "name": "python3",
      "display_name": "Python 3"
    }
  },
  "nbformat": 4,
  "nbformat_minor": 0
}